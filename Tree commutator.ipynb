{
 "cells": [
  {
   "cell_type": "code",
   "execution_count": 2,
   "id": "7d66c605-9106-43dc-a410-a3c6adf77dcc",
   "metadata": {
    "tags": []
   },
   "outputs": [],
   "source": [
    "import jax\n",
    "import jax.numpy as jnp\n",
    "import jax.tree_util as tu"
   ]
  },
  {
   "cell_type": "code",
   "execution_count": 28,
   "id": "9f4c200c-0dd8-4fd7-930a-1af67b564f35",
   "metadata": {
    "tags": []
   },
   "outputs": [],
   "source": [
    "#@title Helper functions (execute this cell)\n",
    "import functools\n",
    "import traceback\n",
    "\n",
    "_indentation = 0\n",
    "def _trace(msg=None):\n",
    "\t\t\"\"\"Print a message at current indentation.\"\"\"\n",
    "\t\tif msg is not None:\n",
    "\t\t\t\tprint(\"  \" * _indentation + msg)\n",
    "\n",
    "def _trace_indent(msg=None):\n",
    "\t\t\"\"\"Print a message and then indent the rest.\"\"\"\n",
    "\t\tglobal _indentation\n",
    "\t\t_trace(msg)\n",
    "\t\t_indentation = 1 + _indentation\n",
    "\n",
    "def _trace_unindent(msg=None):\n",
    "\t\t\"\"\"Unindent then print a message.\"\"\"\n",
    "\t\tglobal _indentation\n",
    "\t\t_indentation = _indentation - 1\n",
    "\t\t_trace(msg)\n",
    "\n",
    "def trace(name):\n",
    "\t\"\"\"A decorator for functions to trace arguments and results.\"\"\"\n",
    "\n",
    "\tdef trace_func(func):  # pylint: disable=missing-docstring\n",
    "\t\tdef pp(v):\n",
    "\t\t\t\t\"\"\"Print certain values more succinctly\"\"\"\n",
    "\t\t\t\tvtype = str(type(v))\n",
    "\t\t\t\tif \"jax._src.xla_bridge._JaxComputationBuilder\" in vtype:\n",
    "\t\t\t\t\t\treturn \"<JaxComputationBuilder>\"\n",
    "\t\t\t\telif \"jaxlib.xla_extension.XlaOp\" in vtype:\n",
    "\t\t\t\t\t\treturn \"<XlaOp at 0x{:x}>\".format(id(v))\n",
    "\t\t\t\telif (\"partial_eval.JaxprTracer\" in vtype or\n",
    "\t\t\t\t\t\t\t\"batching.BatchTracer\" in vtype or\n",
    "\t\t\t\t\t\t\t\"ad.JVPTracer\" in vtype):\n",
    "\t\t\t\t\t\treturn \"Traced<{}>\".format(v.aval)\n",
    "\t\t\t\telif isinstance(v, tuple):\n",
    "\t\t\t\t\t\treturn \"({})\".format(pp_values(v))\n",
    "\t\t\t\telse:\n",
    "\t\t\t\t\t\treturn str(v)\n",
    "\t\tdef pp_values(args):\n",
    "\t\t\t\treturn \", \".join([pp(arg) for arg in args])\n",
    "\t\t\n",
    "\t\t@functools.wraps(func)\n",
    "\t\tdef func_wrapper(*args):\n",
    "\t\t\t_trace_indent(\"call {}({})\".format(name, pp_values(args)))\n",
    "\t\t\tres = func(*args)\n",
    "\t\t\t_trace_unindent(\"|<- {} = {}\".format(name, pp(res)))\n",
    "\t\t\treturn res\n",
    "\n",
    "\t\treturn func_wrapper\n",
    "\n",
    "\treturn trace_func\n",
    "\n",
    "class expectNotImplementedError(object):\n",
    "\t\"\"\"Context manager to check for NotImplementedError.\"\"\"\n",
    "\tdef __enter__(self): pass\n",
    "\tdef __exit__(self, type, value, tb):\n",
    "\t\tglobal _indentation\n",
    "\t\t_indentation = 0\n",
    "\t\tif type is NotImplementedError:\n",
    "\t\t\tprint(\"\\nFound expected exception:\")\n",
    "\t\t\ttraceback.print_exc(limit=3)\n",
    "\t\t\treturn True\n",
    "\t\telif type is None:  # No exception\n",
    "\t\t\tassert False, \"Expected NotImplementedError\"\n",
    "\t\telse:\n",
    "\t\t\treturn False"
   ]
  },
  {
   "cell_type": "code",
   "execution_count": 87,
   "id": "75527387-84b4-468c-bbf4-cfa8ce12ef76",
   "metadata": {
    "tags": []
   },
   "outputs": [],
   "source": [
    "a = jnp.linspace(0, 10, 2)\n",
    "\n",
    "#@trace(\"f\")\n",
    "def f(x): \n",
    "    return dict(a=[x * a, 2 * x * a], b=3 * x * a)\n",
    "\n",
    "g = [lambda x: x * a, lambda x: 2 * x * a]\n",
    "\n",
    "t2 = dict(a=[1, 2, 3], b=dict(c=3, d=0))"
   ]
  },
  {
   "cell_type": "code",
   "execution_count": 88,
   "id": "6e324d81-8aa4-461d-849e-7f928464e10b",
   "metadata": {
    "tags": []
   },
   "outputs": [
    {
     "data": {
      "text/plain": [
       "{'a': [Array([ 0., 20.], dtype=float32), Array([ 0., 40.], dtype=float32)],\n",
       " 'b': Array([ 0., 60.], dtype=float32)}"
      ]
     },
     "execution_count": 88,
     "metadata": {},
     "output_type": "execute_result"
    }
   ],
   "source": [
    "f(2)"
   ]
  },
  {
   "cell_type": "code",
   "execution_count": 89,
   "id": "4c5c314d-5e65-4549-b677-8df8c341424b",
   "metadata": {
    "tags": []
   },
   "outputs": [
    {
     "data": {
      "text/plain": [
       "{ \u001b[34m\u001b[22m\u001b[1mlambda \u001b[39m\u001b[22m\u001b[22ma\u001b[35m:f32[2]\u001b[39m; b\u001b[35m:i32[]\u001b[39m. \u001b[34m\u001b[22m\u001b[1mlet\n",
       "    \u001b[39m\u001b[22m\u001b[22mc\u001b[35m:f32[]\u001b[39m = convert_element_type[new_dtype=float32 weak_type=False] b\n",
       "    d\u001b[35m:f32[2]\u001b[39m = mul c a\n",
       "    e\u001b[35m:i32[]\u001b[39m = mul 2 b\n",
       "    f\u001b[35m:f32[]\u001b[39m = convert_element_type[new_dtype=float32 weak_type=False] e\n",
       "    g\u001b[35m:f32[2]\u001b[39m = mul f a\n",
       "    h\u001b[35m:i32[]\u001b[39m = mul 3 b\n",
       "    i\u001b[35m:f32[]\u001b[39m = convert_element_type[new_dtype=float32 weak_type=False] h\n",
       "    j\u001b[35m:f32[2]\u001b[39m = mul i a\n",
       "  \u001b[34m\u001b[22m\u001b[1min \u001b[39m\u001b[22m\u001b[22m(d, g, j) }"
      ]
     },
     "execution_count": 89,
     "metadata": {},
     "output_type": "execute_result"
    }
   ],
   "source": [
    "jax.make_jaxpr(f)(5)"
   ]
  },
  {
   "cell_type": "code",
   "execution_count": 90,
   "id": "18d00675-7386-44e2-b3cd-1a1fd313a657",
   "metadata": {
    "tags": []
   },
   "outputs": [
    {
     "data": {
      "text/plain": [
       "[<function __main__.<lambda>(x)>, <function __main__.<lambda>(x)>]"
      ]
     },
     "execution_count": 90,
     "metadata": {},
     "output_type": "execute_result"
    }
   ],
   "source": [
    "g"
   ]
  },
  {
   "cell_type": "code",
   "execution_count": 91,
   "id": "63d88e51-f333-4a7d-b2c7-1f973a16806d",
   "metadata": {
    "tags": []
   },
   "outputs": [],
   "source": [
    "def examine_jaxpr(closed_jaxpr):\n",
    "    jaxpr = closed_jaxpr.jaxpr\n",
    "    print(\"invars:\", jaxpr.invars)\n",
    "    print(\"outvars:\", jaxpr.outvars)\n",
    "    print(\"constvars:\", jaxpr.constvars)\n",
    "    for eqn in jaxpr.eqns:\n",
    "        print(\"equation:\", eqn.invars, eqn.primitive, eqn.outvars, eqn.params)\n",
    "    print()\n",
    "    print(\"jaxpr:\", jaxpr)"
   ]
  },
  {
   "cell_type": "code",
   "execution_count": 92,
   "id": "9bda5e24-6eda-4387-8aaa-f8cb41241a05",
   "metadata": {
    "tags": []
   },
   "outputs": [
    {
     "name": "stdout",
     "output_type": "stream",
     "text": [
      "invars: [b]\n",
      "outvars: [d, g, j]\n",
      "constvars: [a]\n",
      "equation: [b] convert_element_type [c] {'new_dtype': dtype('float32'), 'weak_type': False}\n",
      "equation: [c, a] mul [d] {}\n",
      "equation: [2, b] mul [e] {}\n",
      "equation: [e] convert_element_type [f] {'new_dtype': dtype('float32'), 'weak_type': False}\n",
      "equation: [f, a] mul [g] {}\n",
      "equation: [3, b] mul [h] {}\n",
      "equation: [h] convert_element_type [i] {'new_dtype': dtype('float32'), 'weak_type': False}\n",
      "equation: [i, a] mul [j] {}\n",
      "\n",
      "jaxpr: { \u001b[34m\u001b[22m\u001b[1mlambda \u001b[39m\u001b[22m\u001b[22ma\u001b[35m:f32[2]\u001b[39m; b\u001b[35m:i32[]\u001b[39m. \u001b[34m\u001b[22m\u001b[1mlet\n",
      "    \u001b[39m\u001b[22m\u001b[22mc\u001b[35m:f32[]\u001b[39m = convert_element_type[new_dtype=float32 weak_type=False] b\n",
      "    d\u001b[35m:f32[2]\u001b[39m = mul c a\n",
      "    e\u001b[35m:i32[]\u001b[39m = mul 2 b\n",
      "    f\u001b[35m:f32[]\u001b[39m = convert_element_type[new_dtype=float32 weak_type=False] e\n",
      "    g\u001b[35m:f32[2]\u001b[39m = mul f a\n",
      "    h\u001b[35m:i32[]\u001b[39m = mul 3 b\n",
      "    i\u001b[35m:f32[]\u001b[39m = convert_element_type[new_dtype=float32 weak_type=False] h\n",
      "    j\u001b[35m:f32[2]\u001b[39m = mul i a\n",
      "  \u001b[34m\u001b[22m\u001b[1min \u001b[39m\u001b[22m\u001b[22m(d, g, j) }\n"
     ]
    }
   ],
   "source": [
    "examine_jaxpr(jax.make_jaxpr(f)(5))"
   ]
  },
  {
   "cell_type": "code",
   "execution_count": 93,
   "id": "8b8ff11d-eabe-435a-b3d5-b260dee52c02",
   "metadata": {
    "tags": []
   },
   "outputs": [
    {
     "data": {
      "text/plain": [
       "{ \u001b[34m\u001b[22m\u001b[1mlambda \u001b[39m\u001b[22m\u001b[22ma\u001b[35m:f32[2]\u001b[39m; b\u001b[35m:i32[]\u001b[39m. \u001b[34m\u001b[22m\u001b[1mlet\n",
       "    \u001b[39m\u001b[22m\u001b[22mc\u001b[35m:f32[]\u001b[39m = convert_element_type[new_dtype=float32 weak_type=False] b\n",
       "    d\u001b[35m:f32[2]\u001b[39m = mul c a\n",
       "    e\u001b[35m:i32[]\u001b[39m = mul 2 b\n",
       "    f\u001b[35m:f32[]\u001b[39m = convert_element_type[new_dtype=float32 weak_type=False] e\n",
       "    g\u001b[35m:f32[2]\u001b[39m = mul f a\n",
       "    h\u001b[35m:i32[]\u001b[39m = mul 3 b\n",
       "    i\u001b[35m:f32[]\u001b[39m = convert_element_type[new_dtype=float32 weak_type=False] h\n",
       "    j\u001b[35m:f32[2]\u001b[39m = mul i a\n",
       "  \u001b[34m\u001b[22m\u001b[1min \u001b[39m\u001b[22m\u001b[22m(d, g, j) }"
      ]
     },
     "execution_count": 93,
     "metadata": {},
     "output_type": "execute_result"
    }
   ],
   "source": [
    "jax.make_jaxpr(f)(5)"
   ]
  },
  {
   "cell_type": "code",
   "execution_count": 81,
   "id": "294f03e6-3034-4580-86ac-39a2da745ab7",
   "metadata": {
    "tags": []
   },
   "outputs": [
    {
     "data": {
      "text/plain": [
       "jax._src.core.ClosedJaxpr"
      ]
     },
     "execution_count": 81,
     "metadata": {},
     "output_type": "execute_result"
    }
   ],
   "source": [
    "jax.make_jaxpr(f)(5).__class__"
   ]
  },
  {
   "cell_type": "code",
   "execution_count": 78,
   "id": "e6c3a2cb-ce03-42c8-b2f5-7bcce4dcf87b",
   "metadata": {
    "tags": []
   },
   "outputs": [
    {
     "ename": "AttributeError",
     "evalue": "'ClosedJaxpr' object has no attribute 'constvars'",
     "output_type": "error",
     "traceback": [
      "\u001b[0;31m---------------------------------------------------------------------------\u001b[0m",
      "\u001b[0;31mAttributeError\u001b[0m                            Traceback (most recent call last)",
      "Cell \u001b[0;32mIn[78], line 1\u001b[0m\n\u001b[0;32m----> 1\u001b[0m \u001b[43mjax\u001b[49m\u001b[38;5;241;43m.\u001b[39;49m\u001b[43mcore\u001b[49m\u001b[38;5;241;43m.\u001b[39;49m\u001b[43meval_jaxpr\u001b[49m\u001b[43m(\u001b[49m\u001b[43mjax\u001b[49m\u001b[38;5;241;43m.\u001b[39;49m\u001b[43mmake_jaxpr\u001b[49m\u001b[43m(\u001b[49m\u001b[43mf\u001b[49m\u001b[43m)\u001b[49m\u001b[43m(\u001b[49m\u001b[38;5;241;43m5\u001b[39;49m\u001b[43m)\u001b[49m\u001b[43m,\u001b[49m\u001b[43m \u001b[49m\u001b[43m[\u001b[49m\u001b[43m]\u001b[49m\u001b[43m,\u001b[49m\u001b[43m \u001b[49m\u001b[38;5;241;43m1\u001b[39;49m\u001b[43m)\u001b[49m\n",
      "File \u001b[0;32m~/.pyenv/versions/3.9.18/envs/dynamiqs/lib/python3.9/site-packages/jax/_src/core.py:504\u001b[0m, in \u001b[0;36meval_jaxpr\u001b[0;34m(jaxpr, consts, propagate_source_info, *args)\u001b[0m\n\u001b[1;32m    501\u001b[0m   env[v] \u001b[38;5;241m=\u001b[39m val\n\u001b[1;32m    503\u001b[0m env: \u001b[38;5;28mdict\u001b[39m[Var, Any] \u001b[38;5;241m=\u001b[39m {}\n\u001b[0;32m--> 504\u001b[0m \u001b[38;5;28mmap\u001b[39m(write, \u001b[43mjaxpr\u001b[49m\u001b[38;5;241;43m.\u001b[39;49m\u001b[43mconstvars\u001b[49m, consts)\n\u001b[1;32m    505\u001b[0m \u001b[38;5;28mmap\u001b[39m(write, jaxpr\u001b[38;5;241m.\u001b[39minvars, args)\n\u001b[1;32m    506\u001b[0m lu \u001b[38;5;241m=\u001b[39m last_used(jaxpr)\n",
      "\u001b[0;31mAttributeError\u001b[0m: 'ClosedJaxpr' object has no attribute 'constvars'"
     ]
    }
   ],
   "source": [
    "jax.core.eval_jaxpr(jax.make_jaxpr(f)(5), [], 1)"
   ]
  },
  {
   "cell_type": "code",
   "execution_count": 77,
   "id": "b8c66518-80cd-49a6-b195-33bc960ac612",
   "metadata": {
    "tags": []
   },
   "outputs": [
    {
     "data": {
      "text/plain": [
       "\u001b[0;31mSignature:\u001b[0m\n",
       "\u001b[0mjax\u001b[0m\u001b[0;34m.\u001b[0m\u001b[0mcore\u001b[0m\u001b[0;34m.\u001b[0m\u001b[0meval_jaxpr\u001b[0m\u001b[0;34m(\u001b[0m\u001b[0;34m\u001b[0m\n",
       "\u001b[0;34m\u001b[0m    \u001b[0mjaxpr\u001b[0m\u001b[0;34m:\u001b[0m \u001b[0;34m'Jaxpr'\u001b[0m\u001b[0;34m,\u001b[0m\u001b[0;34m\u001b[0m\n",
       "\u001b[0;34m\u001b[0m    \u001b[0mconsts\u001b[0m\u001b[0;34m,\u001b[0m\u001b[0;34m\u001b[0m\n",
       "\u001b[0;34m\u001b[0m    \u001b[0;34m*\u001b[0m\u001b[0margs\u001b[0m\u001b[0;34m,\u001b[0m\u001b[0;34m\u001b[0m\n",
       "\u001b[0;34m\u001b[0m    \u001b[0mpropagate_source_info\u001b[0m\u001b[0;34m=\u001b[0m\u001b[0;32mTrue\u001b[0m\u001b[0;34m,\u001b[0m\u001b[0;34m\u001b[0m\n",
       "\u001b[0;34m\u001b[0m\u001b[0;34m)\u001b[0m\u001b[0;34m\u001b[0m\u001b[0;34m\u001b[0m\u001b[0m\n",
       "\u001b[0;31mDocstring:\u001b[0m <no docstring>\n",
       "\u001b[0;31mSource:\u001b[0m   \n",
       "\u001b[0;32mdef\u001b[0m \u001b[0meval_jaxpr\u001b[0m\u001b[0;34m(\u001b[0m\u001b[0mjaxpr\u001b[0m\u001b[0;34m:\u001b[0m \u001b[0mJaxpr\u001b[0m\u001b[0;34m,\u001b[0m \u001b[0mconsts\u001b[0m\u001b[0;34m,\u001b[0m \u001b[0;34m*\u001b[0m\u001b[0margs\u001b[0m\u001b[0;34m,\u001b[0m \u001b[0mpropagate_source_info\u001b[0m\u001b[0;34m=\u001b[0m\u001b[0;32mTrue\u001b[0m\u001b[0;34m)\u001b[0m\u001b[0;34m:\u001b[0m\u001b[0;34m\u001b[0m\n",
       "\u001b[0;34m\u001b[0m  \u001b[0;32mdef\u001b[0m \u001b[0mread\u001b[0m\u001b[0;34m(\u001b[0m\u001b[0mv\u001b[0m\u001b[0;34m:\u001b[0m \u001b[0mAtom\u001b[0m\u001b[0;34m)\u001b[0m \u001b[0;34m->\u001b[0m \u001b[0mAny\u001b[0m\u001b[0;34m:\u001b[0m\u001b[0;34m\u001b[0m\n",
       "\u001b[0;34m\u001b[0m    \u001b[0;32mreturn\u001b[0m \u001b[0mv\u001b[0m\u001b[0;34m.\u001b[0m\u001b[0mval\u001b[0m \u001b[0;32mif\u001b[0m \u001b[0misinstance\u001b[0m\u001b[0;34m(\u001b[0m\u001b[0mv\u001b[0m\u001b[0;34m,\u001b[0m \u001b[0mLiteral\u001b[0m\u001b[0;34m)\u001b[0m \u001b[0;32melse\u001b[0m \u001b[0menv\u001b[0m\u001b[0;34m[\u001b[0m\u001b[0mv\u001b[0m\u001b[0;34m]\u001b[0m\u001b[0;34m\u001b[0m\n",
       "\u001b[0;34m\u001b[0m\u001b[0;34m\u001b[0m\n",
       "\u001b[0;34m\u001b[0m  \u001b[0;32mdef\u001b[0m \u001b[0mwrite\u001b[0m\u001b[0;34m(\u001b[0m\u001b[0mv\u001b[0m\u001b[0;34m:\u001b[0m \u001b[0mVar\u001b[0m\u001b[0;34m,\u001b[0m \u001b[0mval\u001b[0m\u001b[0;34m:\u001b[0m \u001b[0mAny\u001b[0m\u001b[0;34m)\u001b[0m \u001b[0;34m->\u001b[0m \u001b[0;32mNone\u001b[0m\u001b[0;34m:\u001b[0m\u001b[0;34m\u001b[0m\n",
       "\u001b[0;34m\u001b[0m    \u001b[0;32mif\u001b[0m \u001b[0mconfig\u001b[0m\u001b[0;34m.\u001b[0m\u001b[0menable_checks\u001b[0m\u001b[0;34m.\u001b[0m\u001b[0mvalue\u001b[0m \u001b[0;32mand\u001b[0m \u001b[0;32mnot\u001b[0m \u001b[0mconfig\u001b[0m\u001b[0;34m.\u001b[0m\u001b[0mdynamic_shapes\u001b[0m\u001b[0;34m.\u001b[0m\u001b[0mvalue\u001b[0m\u001b[0;34m:\u001b[0m\u001b[0;34m\u001b[0m\n",
       "\u001b[0;34m\u001b[0m      \u001b[0;32massert\u001b[0m \u001b[0mtypecheck\u001b[0m\u001b[0;34m(\u001b[0m\u001b[0mv\u001b[0m\u001b[0;34m.\u001b[0m\u001b[0maval\u001b[0m\u001b[0;34m,\u001b[0m \u001b[0mval\u001b[0m\u001b[0;34m)\u001b[0m\u001b[0;34m,\u001b[0m \u001b[0;34m(\u001b[0m\u001b[0mv\u001b[0m\u001b[0;34m.\u001b[0m\u001b[0maval\u001b[0m\u001b[0;34m,\u001b[0m \u001b[0mval\u001b[0m\u001b[0;34m)\u001b[0m\u001b[0;34m\u001b[0m\n",
       "\u001b[0;34m\u001b[0m    \u001b[0menv\u001b[0m\u001b[0;34m[\u001b[0m\u001b[0mv\u001b[0m\u001b[0;34m]\u001b[0m \u001b[0;34m=\u001b[0m \u001b[0mval\u001b[0m\u001b[0;34m\u001b[0m\n",
       "\u001b[0;34m\u001b[0m\u001b[0;34m\u001b[0m\n",
       "\u001b[0;34m\u001b[0m  \u001b[0menv\u001b[0m\u001b[0;34m:\u001b[0m \u001b[0mdict\u001b[0m\u001b[0;34m[\u001b[0m\u001b[0mVar\u001b[0m\u001b[0;34m,\u001b[0m \u001b[0mAny\u001b[0m\u001b[0;34m]\u001b[0m \u001b[0;34m=\u001b[0m \u001b[0;34m{\u001b[0m\u001b[0;34m}\u001b[0m\u001b[0;34m\u001b[0m\n",
       "\u001b[0;34m\u001b[0m  \u001b[0mmap\u001b[0m\u001b[0;34m(\u001b[0m\u001b[0mwrite\u001b[0m\u001b[0;34m,\u001b[0m \u001b[0mjaxpr\u001b[0m\u001b[0;34m.\u001b[0m\u001b[0mconstvars\u001b[0m\u001b[0;34m,\u001b[0m \u001b[0mconsts\u001b[0m\u001b[0;34m)\u001b[0m\u001b[0;34m\u001b[0m\n",
       "\u001b[0;34m\u001b[0m  \u001b[0mmap\u001b[0m\u001b[0;34m(\u001b[0m\u001b[0mwrite\u001b[0m\u001b[0;34m,\u001b[0m \u001b[0mjaxpr\u001b[0m\u001b[0;34m.\u001b[0m\u001b[0minvars\u001b[0m\u001b[0;34m,\u001b[0m \u001b[0margs\u001b[0m\u001b[0;34m)\u001b[0m\u001b[0;34m\u001b[0m\n",
       "\u001b[0;34m\u001b[0m  \u001b[0mlu\u001b[0m \u001b[0;34m=\u001b[0m \u001b[0mlast_used\u001b[0m\u001b[0;34m(\u001b[0m\u001b[0mjaxpr\u001b[0m\u001b[0;34m)\u001b[0m\u001b[0;34m\u001b[0m\n",
       "\u001b[0;34m\u001b[0m  \u001b[0;32mfor\u001b[0m \u001b[0meqn\u001b[0m \u001b[0;32min\u001b[0m \u001b[0mjaxpr\u001b[0m\u001b[0;34m.\u001b[0m\u001b[0meqns\u001b[0m\u001b[0;34m:\u001b[0m\u001b[0;34m\u001b[0m\n",
       "\u001b[0;34m\u001b[0m    \u001b[0msubfuns\u001b[0m\u001b[0;34m,\u001b[0m \u001b[0mbind_params\u001b[0m \u001b[0;34m=\u001b[0m \u001b[0meqn\u001b[0m\u001b[0;34m.\u001b[0m\u001b[0mprimitive\u001b[0m\u001b[0;34m.\u001b[0m\u001b[0mget_bind_params\u001b[0m\u001b[0;34m(\u001b[0m\u001b[0meqn\u001b[0m\u001b[0;34m.\u001b[0m\u001b[0mparams\u001b[0m\u001b[0;34m)\u001b[0m\u001b[0;34m\u001b[0m\n",
       "\u001b[0;34m\u001b[0m    \u001b[0mname_stack\u001b[0m \u001b[0;34m=\u001b[0m \u001b[0msource_info_util\u001b[0m\u001b[0;34m.\u001b[0m\u001b[0mcurrent_name_stack\u001b[0m\u001b[0;34m(\u001b[0m\u001b[0;34m)\u001b[0m \u001b[0;34m+\u001b[0m \u001b[0meqn\u001b[0m\u001b[0;34m.\u001b[0m\u001b[0msource_info\u001b[0m\u001b[0;34m.\u001b[0m\u001b[0mname_stack\u001b[0m\u001b[0;34m\u001b[0m\n",
       "\u001b[0;34m\u001b[0m    \u001b[0mtraceback\u001b[0m \u001b[0;34m=\u001b[0m \u001b[0meqn\u001b[0m\u001b[0;34m.\u001b[0m\u001b[0msource_info\u001b[0m\u001b[0;34m.\u001b[0m\u001b[0mtraceback\u001b[0m \u001b[0;32mif\u001b[0m \u001b[0mpropagate_source_info\u001b[0m \u001b[0;32melse\u001b[0m \u001b[0;32mNone\u001b[0m\u001b[0;34m\u001b[0m\n",
       "\u001b[0;34m\u001b[0m    \u001b[0;32mwith\u001b[0m \u001b[0msource_info_util\u001b[0m\u001b[0;34m.\u001b[0m\u001b[0muser_context\u001b[0m\u001b[0;34m(\u001b[0m\u001b[0mtraceback\u001b[0m\u001b[0;34m,\u001b[0m \u001b[0mname_stack\u001b[0m\u001b[0;34m=\u001b[0m\u001b[0mname_stack\u001b[0m\u001b[0;34m)\u001b[0m\u001b[0;34m:\u001b[0m\u001b[0;34m\u001b[0m\n",
       "\u001b[0;34m\u001b[0m      \u001b[0mans\u001b[0m \u001b[0;34m=\u001b[0m \u001b[0meqn\u001b[0m\u001b[0;34m.\u001b[0m\u001b[0mprimitive\u001b[0m\u001b[0;34m.\u001b[0m\u001b[0mbind\u001b[0m\u001b[0;34m(\u001b[0m\u001b[0;34m*\u001b[0m\u001b[0msubfuns\u001b[0m\u001b[0;34m,\u001b[0m \u001b[0;34m*\u001b[0m\u001b[0mmap\u001b[0m\u001b[0;34m(\u001b[0m\u001b[0mread\u001b[0m\u001b[0;34m,\u001b[0m \u001b[0meqn\u001b[0m\u001b[0;34m.\u001b[0m\u001b[0minvars\u001b[0m\u001b[0;34m)\u001b[0m\u001b[0;34m,\u001b[0m \u001b[0;34m**\u001b[0m\u001b[0mbind_params\u001b[0m\u001b[0;34m)\u001b[0m\u001b[0;34m\u001b[0m\n",
       "\u001b[0;34m\u001b[0m    \u001b[0;32mif\u001b[0m \u001b[0meqn\u001b[0m\u001b[0;34m.\u001b[0m\u001b[0mprimitive\u001b[0m\u001b[0;34m.\u001b[0m\u001b[0mmultiple_results\u001b[0m\u001b[0;34m:\u001b[0m\u001b[0;34m\u001b[0m\n",
       "\u001b[0;34m\u001b[0m      \u001b[0mmap\u001b[0m\u001b[0;34m(\u001b[0m\u001b[0mwrite\u001b[0m\u001b[0;34m,\u001b[0m \u001b[0meqn\u001b[0m\u001b[0;34m.\u001b[0m\u001b[0moutvars\u001b[0m\u001b[0;34m,\u001b[0m \u001b[0mans\u001b[0m\u001b[0;34m)\u001b[0m\u001b[0;34m\u001b[0m\n",
       "\u001b[0;34m\u001b[0m    \u001b[0;32melse\u001b[0m\u001b[0;34m:\u001b[0m\u001b[0;34m\u001b[0m\n",
       "\u001b[0;34m\u001b[0m      \u001b[0mwrite\u001b[0m\u001b[0;34m(\u001b[0m\u001b[0meqn\u001b[0m\u001b[0;34m.\u001b[0m\u001b[0moutvars\u001b[0m\u001b[0;34m[\u001b[0m\u001b[0;36m0\u001b[0m\u001b[0;34m]\u001b[0m\u001b[0;34m,\u001b[0m \u001b[0mans\u001b[0m\u001b[0;34m)\u001b[0m\u001b[0;34m\u001b[0m\n",
       "\u001b[0;34m\u001b[0m    \u001b[0mclean_up_dead_vars\u001b[0m\u001b[0;34m(\u001b[0m\u001b[0meqn\u001b[0m\u001b[0;34m,\u001b[0m \u001b[0menv\u001b[0m\u001b[0;34m,\u001b[0m \u001b[0mlu\u001b[0m\u001b[0;34m)\u001b[0m\u001b[0;34m\u001b[0m\n",
       "\u001b[0;34m\u001b[0m  \u001b[0;32mreturn\u001b[0m \u001b[0mmap\u001b[0m\u001b[0;34m(\u001b[0m\u001b[0mread\u001b[0m\u001b[0;34m,\u001b[0m \u001b[0mjaxpr\u001b[0m\u001b[0;34m.\u001b[0m\u001b[0moutvars\u001b[0m\u001b[0;34m)\u001b[0m\u001b[0;34m\u001b[0m\u001b[0;34m\u001b[0m\u001b[0m\n",
       "\u001b[0;31mFile:\u001b[0m      ~/.pyenv/versions/3.9.18/envs/dynamiqs/lib/python3.9/site-packages/jax/_src/core.py\n",
       "\u001b[0;31mType:\u001b[0m      function"
      ]
     },
     "metadata": {},
     "output_type": "display_data"
    }
   ],
   "source": [
    "jax.core.eval_jaxpr??"
   ]
  },
  {
   "cell_type": "code",
   "execution_count": 94,
   "id": "1a5f86c9-904c-43bf-81bc-697968abaaf9",
   "metadata": {
    "tags": []
   },
   "outputs": [],
   "source": [
    "def examine_jaxpr(closed_jaxpr):\n",
    "    jaxpr = closed_jaxpr.jaxpr\n",
    "    print(\"invars:\", jaxpr.invars)\n",
    "    print(\"outvars:\", jaxpr.outvars)\n",
    "    print(\"constvars:\", jaxpr.constvars)\n",
    "    for eqn in jaxpr.eqns:\n",
    "        print(\"equation:\", eqn.invars, eqn.primitive, eqn.outvars, eqn.params)\n",
    "    print()\n",
    "    print(\"jaxpr:\", jaxpr)"
   ]
  },
  {
   "cell_type": "code",
   "execution_count": 95,
   "id": "47faea4b-4b4f-4c1a-84ac-822110fc6d83",
   "metadata": {
    "tags": []
   },
   "outputs": [
    {
     "name": "stdout",
     "output_type": "stream",
     "text": [
      "invars: [b]\n",
      "outvars: [d, g, j]\n",
      "constvars: [a]\n",
      "equation: [b] convert_element_type [c] {'new_dtype': dtype('float32'), 'weak_type': False}\n",
      "equation: [c, a] mul [d] {}\n",
      "equation: [2, b] mul [e] {}\n",
      "equation: [e] convert_element_type [f] {'new_dtype': dtype('float32'), 'weak_type': False}\n",
      "equation: [f, a] mul [g] {}\n",
      "equation: [3, b] mul [h] {}\n",
      "equation: [h] convert_element_type [i] {'new_dtype': dtype('float32'), 'weak_type': False}\n",
      "equation: [i, a] mul [j] {}\n",
      "\n",
      "jaxpr: { \u001b[34m\u001b[22m\u001b[1mlambda \u001b[39m\u001b[22m\u001b[22ma\u001b[35m:f32[2]\u001b[39m; b\u001b[35m:i32[]\u001b[39m. \u001b[34m\u001b[22m\u001b[1mlet\n",
      "    \u001b[39m\u001b[22m\u001b[22mc\u001b[35m:f32[]\u001b[39m = convert_element_type[new_dtype=float32 weak_type=False] b\n",
      "    d\u001b[35m:f32[2]\u001b[39m = mul c a\n",
      "    e\u001b[35m:i32[]\u001b[39m = mul 2 b\n",
      "    f\u001b[35m:f32[]\u001b[39m = convert_element_type[new_dtype=float32 weak_type=False] e\n",
      "    g\u001b[35m:f32[2]\u001b[39m = mul f a\n",
      "    h\u001b[35m:i32[]\u001b[39m = mul 3 b\n",
      "    i\u001b[35m:f32[]\u001b[39m = convert_element_type[new_dtype=float32 weak_type=False] h\n",
      "    j\u001b[35m:f32[2]\u001b[39m = mul i a\n",
      "  \u001b[34m\u001b[22m\u001b[1min \u001b[39m\u001b[22m\u001b[22m(d, g, j) }\n"
     ]
    }
   ],
   "source": [
    "examine_jaxpr(jax.make_jaxpr(f)(5))"
   ]
  },
  {
   "cell_type": "code",
   "execution_count": 101,
   "id": "b666faa9-ccfd-4a29-883a-bfe7dbe7da3c",
   "metadata": {
    "tags": []
   },
   "outputs": [
    {
     "data": {
      "text/plain": [
       "{ \u001b[34m\u001b[22m\u001b[1mlambda \u001b[39m\u001b[22m\u001b[22ma\u001b[35m:f32[2]\u001b[39m; b\u001b[35m:i32[]\u001b[39m. \u001b[34m\u001b[22m\u001b[1mlet\n",
       "    \u001b[39m\u001b[22m\u001b[22mc\u001b[35m:f32[]\u001b[39m = convert_element_type[new_dtype=float32 weak_type=False] b\n",
       "    d\u001b[35m:f32[2]\u001b[39m = mul c a\n",
       "    e\u001b[35m:i32[]\u001b[39m = mul 2 b\n",
       "    f\u001b[35m:f32[]\u001b[39m = convert_element_type[new_dtype=float32 weak_type=False] e\n",
       "    g\u001b[35m:f32[2]\u001b[39m = mul f a\n",
       "    h\u001b[35m:i32[]\u001b[39m = mul 3 b\n",
       "    i\u001b[35m:f32[]\u001b[39m = convert_element_type[new_dtype=float32 weak_type=False] h\n",
       "    j\u001b[35m:f32[2]\u001b[39m = mul i a\n",
       "  \u001b[34m\u001b[22m\u001b[1min \u001b[39m\u001b[22m\u001b[22m(d, g, j) }"
      ]
     },
     "execution_count": 101,
     "metadata": {},
     "output_type": "execute_result"
    }
   ],
   "source": [
    "jax.make_jaxpr(f)(5)"
   ]
  },
  {
   "cell_type": "code",
   "execution_count": 146,
   "id": "1f0012ab-29e6-48f0-b855-1a93c298a758",
   "metadata": {
    "tags": []
   },
   "outputs": [
    {
     "data": {
      "text/plain": [
       "{'a': [functools.partial(<function jaxpr_as_fun at 0x1073c90d0>, { \u001b[34m\u001b[22m\u001b[1mlambda \u001b[39m\u001b[22m\u001b[22ma\u001b[35m:f32[2]\u001b[39m; b\u001b[35m:f32[]\u001b[39m. \u001b[34m\u001b[22m\u001b[1mlet\n",
       "      \u001b[39m\u001b[22m\u001b[22mc\u001b[35m:f32[]\u001b[39m = convert_element_type[new_dtype=float32 weak_type=False] b\n",
       "      d\u001b[35m:f32[2]\u001b[39m = mul c a\n",
       "      e\u001b[35m:f32[]\u001b[39m = mul 2.0 b\n",
       "      f\u001b[35m:f32[]\u001b[39m = convert_element_type[new_dtype=float32 weak_type=False] e\n",
       "      g\u001b[35m:f32[2]\u001b[39m = mul f a\n",
       "      h\u001b[35m:f32[]\u001b[39m = mul 3.0 b\n",
       "      i\u001b[35m:f32[]\u001b[39m = convert_element_type[new_dtype=float32 weak_type=False] h\n",
       "      j\u001b[35m:f32[2]\u001b[39m = mul i a\n",
       "    \u001b[34m\u001b[22m\u001b[1min \u001b[39m\u001b[22m\u001b[22m(d,) }),\n",
       "  functools.partial(<function jaxpr_as_fun at 0x1073c90d0>, { \u001b[34m\u001b[22m\u001b[1mlambda \u001b[39m\u001b[22m\u001b[22ma\u001b[35m:f32[2]\u001b[39m; b\u001b[35m:f32[]\u001b[39m. \u001b[34m\u001b[22m\u001b[1mlet\n",
       "      \u001b[39m\u001b[22m\u001b[22mc\u001b[35m:f32[]\u001b[39m = convert_element_type[new_dtype=float32 weak_type=False] b\n",
       "      d\u001b[35m:f32[2]\u001b[39m = mul c a\n",
       "      e\u001b[35m:f32[]\u001b[39m = mul 2.0 b\n",
       "      f\u001b[35m:f32[]\u001b[39m = convert_element_type[new_dtype=float32 weak_type=False] e\n",
       "      g\u001b[35m:f32[2]\u001b[39m = mul f a\n",
       "      h\u001b[35m:f32[]\u001b[39m = mul 3.0 b\n",
       "      i\u001b[35m:f32[]\u001b[39m = convert_element_type[new_dtype=float32 weak_type=False] h\n",
       "      j\u001b[35m:f32[2]\u001b[39m = mul i a\n",
       "    \u001b[34m\u001b[22m\u001b[1min \u001b[39m\u001b[22m\u001b[22m(g,) })],\n",
       " 'b': functools.partial(<function jaxpr_as_fun at 0x1073c90d0>, { \u001b[34m\u001b[22m\u001b[1mlambda \u001b[39m\u001b[22m\u001b[22ma\u001b[35m:f32[2]\u001b[39m; b\u001b[35m:f32[]\u001b[39m. \u001b[34m\u001b[22m\u001b[1mlet\n",
       "     \u001b[39m\u001b[22m\u001b[22mc\u001b[35m:f32[]\u001b[39m = convert_element_type[new_dtype=float32 weak_type=False] b\n",
       "     d\u001b[35m:f32[2]\u001b[39m = mul c a\n",
       "     e\u001b[35m:f32[]\u001b[39m = mul 2.0 b\n",
       "     f\u001b[35m:f32[]\u001b[39m = convert_element_type[new_dtype=float32 weak_type=False] e\n",
       "     g\u001b[35m:f32[2]\u001b[39m = mul f a\n",
       "     h\u001b[35m:f32[]\u001b[39m = mul 3.0 b\n",
       "     i\u001b[35m:f32[]\u001b[39m = convert_element_type[new_dtype=float32 weak_type=False] h\n",
       "     j\u001b[35m:f32[2]\u001b[39m = mul i a\n",
       "   \u001b[34m\u001b[22m\u001b[1min \u001b[39m\u001b[22m\u001b[22m(j,) })}"
      ]
     },
     "execution_count": 146,
     "metadata": {},
     "output_type": "execute_result"
    }
   ],
   "source": [
    "import jax\n",
    "import jax.tree_util as jtu\n",
    "\n",
    "def transform_jaxpr(f):\n",
    "    \"\"\"\n",
    "        Expects 'f' to be a function with a single float argument\n",
    "    \"\"\"\n",
    "    new_jaxpr = []\n",
    "    closed_jaxpr = jax.make_jaxpr(f)(0.0)\n",
    "    structure = jtu.tree_structure(jax.eval_shape(f, 0.0))\n",
    "    for i in range(len(closed_jaxpr.jaxpr.outvars)):\n",
    "        c_jaxpr = closed_jaxpr.jaxpr.replace(outvars=[closed_jaxpr.jaxpr.outvars[i]])\n",
    "        c_jaxpr = jax.core.ClosedJaxpr(c_jaxpr, closed_jaxpr.consts)\n",
    "        c_fun = jax.core.jaxpr_as_fun(c_jaxpr)\n",
    "        new_jaxpr.append(c_fun)\n",
    "    tree = jtu.tree_unflatten(structure, new_jaxpr)\n",
    "    return tree\n",
    "\n",
    "\n",
    "a = jnp.linspace(0, 10, 2)\n",
    "def H(x): \n",
    "    return dict(a=[x * a, 2 * x * a], b=3 * x * a)\n",
    "transform_jaxpr(H)"
   ]
  },
  {
   "cell_type": "code",
   "execution_count": 144,
   "id": "91c35359-09e2-4fd4-abec-4f4f8939c293",
   "metadata": {
    "tags": []
   },
   "outputs": [
    {
     "name": "stdout",
     "output_type": "stream",
     "text": [
      "PyTreeDef({'a': [*, *], 'b': *})\n"
     ]
    },
    {
     "data": {
      "text/plain": [
       "[Array([ 0., 30.], dtype=float32)]"
      ]
     },
     "execution_count": 144,
     "metadata": {},
     "output_type": "execute_result"
    }
   ],
   "source": [
    "transform_jaxpr(f)[\"a\"][0](3.0)"
   ]
  },
  {
   "cell_type": "code",
   "execution_count": 44,
   "id": "872aa418-9d7d-46aa-a702-346a8c30bf69",
   "metadata": {
    "tags": []
   },
   "outputs": [],
   "source": [
    "import numpy as np\n",
    "from functools import wraps\n",
    "\n",
    "from jax import core\n",
    "from jax import lax\n",
    "from jax._src.util import safe_map"
   ]
  },
  {
   "cell_type": "code",
   "execution_count": 46,
   "id": "0db1ef74-cf33-4659-9d23-93f4ce99d8e1",
   "metadata": {
    "tags": []
   },
   "outputs": [
    {
     "name": "stdout",
     "output_type": "stream",
     "text": [
      "{ \u001b[34m\u001b[22m\u001b[1mlambda \u001b[39m\u001b[22m\u001b[22m; a\u001b[35m:f32[5]\u001b[39m. \u001b[34m\u001b[22m\u001b[1mlet\u001b[39m\u001b[22m\u001b[22m b\u001b[35m:f32[5]\u001b[39m = tanh a; c\u001b[35m:f32[5]\u001b[39m = exp b \u001b[34m\u001b[22m\u001b[1min \u001b[39m\u001b[22m\u001b[22m(c,) }\n",
      "[]\n"
     ]
    }
   ],
   "source": [
    "def f(x):\n",
    "    return jnp.exp(jnp.tanh(x))\n",
    "\n",
    "closed_jaxpr = jax.make_jaxpr(f)(jnp.ones(5))\n",
    "print(closed_jaxpr.jaxpr)\n",
    "print(closed_jaxpr.literals)"
   ]
  },
  {
   "cell_type": "code",
   "execution_count": 50,
   "id": "102fe996-1cc9-4aee-a0a7-365b1fc24793",
   "metadata": {
    "tags": []
   },
   "outputs": [],
   "source": [
    "def eval_jaxpr(jaxpr, consts, *args):\n",
    "    # Mapping from variable -> value\n",
    "    env = {}\n",
    "\n",
    "    def read(var):\n",
    "        # Literals are values baked into the Jaxpr\n",
    "        if type(var) is core.Literal:\n",
    "            return var.val\n",
    "        return env[var]\n",
    "\n",
    "    def write(var, val):\n",
    "        env[var] = val\n",
    "\n",
    "    # Bind args and consts to environment\n",
    "    safe_map(write, jaxpr.invars, args)\n",
    "    safe_map(write, jaxpr.constvars, consts)\n",
    "\n",
    "    # Loop through equations and evaluate primitives using `bind`\n",
    "    for eqn in jaxpr.eqns:\n",
    "        # Read inputs to equation from environment\n",
    "        invals = safe_map(read, eqn.invars)  \n",
    "        # `bind` is how a primitive is called\n",
    "        outvals = eqn.primitive.bind(*invals, **eqn.params)\n",
    "        # Primitives may return multiple outputs or not\n",
    "        if not eqn.primitive.multiple_results: \n",
    "            outvals = [outvals]\n",
    "        # Write the results of the primitive into the environment\n",
    "        safe_map(write, eqn.outvars, outvals) \n",
    "    # Read the final result of the Jaxpr from the environment\n",
    "    return safe_map(read, jaxpr.outvars) "
   ]
  },
  {
   "cell_type": "code",
   "execution_count": 51,
   "id": "ab577cff-dea0-4ce7-ab7c-4a7f5f181243",
   "metadata": {
    "tags": []
   },
   "outputs": [
    {
     "data": {
      "text/plain": [
       "[Array([2.1416876, 2.1416876, 2.1416876, 2.1416876, 2.1416876], dtype=float32)]"
      ]
     },
     "execution_count": 51,
     "metadata": {},
     "output_type": "execute_result"
    }
   ],
   "source": [
    "closed_jaxpr = jax.make_jaxpr(f)(jnp.ones(5))\n",
    "eval_jaxpr(closed_jaxpr.jaxpr, closed_jaxpr.literals, jnp.ones(5))"
   ]
  },
  {
   "cell_type": "code",
   "execution_count": 199,
   "id": "0467f4c4-a4bc-4ac0-a397-0c228a2136b5",
   "metadata": {
    "tags": []
   },
   "outputs": [
    {
     "data": {
      "text/plain": [
       "Array(12., dtype=float32, weak_type=True)"
      ]
     },
     "execution_count": 199,
     "metadata": {},
     "output_type": "execute_result"
    }
   ],
   "source": [
    "fs = []\n",
    "for i in np.arange(10):\n",
    "    def f(t, i):\n",
    "        return i * t\n",
    "    fs.append(jtu.Partial(f, i=i))\n",
    "    \n",
    "\n",
    "@jax.jit\n",
    "def g(f):\n",
    "    return 2 * f(3.0)\n",
    "\n",
    "g(arrays[2]) # OK \n",
    "#jax.tree_map(g, dict(a=fs[0], b=fs[1])) # explose"
   ]
  },
  {
   "cell_type": "code",
   "execution_count": 219,
   "id": "e595ca96-fef9-4c53-9d66-43f47d821f10",
   "metadata": {
    "tags": []
   },
   "outputs": [
    {
     "data": {
      "text/plain": [
       "Array([0., 1., 2., 3., 4., 5., 6., 7., 8., 9.], dtype=float32, weak_type=True)"
      ]
     },
     "execution_count": 219,
     "metadata": {},
     "output_type": "execute_result"
    }
   ],
   "source": [
    "idx = jnp.arange(len(fs))\n",
    "vmapped = jax.vmap(lambda i, t: jax.lax.switch(i, fs, t), in_axes=(0, None))\n",
    "vmapped(idx, 1.0)"
   ]
  },
  {
   "cell_type": "code",
   "execution_count": 229,
   "id": "1f989544-a92f-461f-b14c-0f9fdcc190b2",
   "metadata": {
    "tags": []
   },
   "outputs": [],
   "source": [
    "a = jnp.linspace(0, 3, 1000)\n",
    "b = jnp.linspace(-1, 1, 1000)\n",
    "\n",
    "@jax.jit\n",
    "def f(x):\n",
    "    return jnp.exp(jnp.tanh(b * x))"
   ]
  },
  {
   "cell_type": "code",
   "execution_count": 230,
   "id": "d623c91d-4d91-4046-a5ea-c1e850405259",
   "metadata": {
    "tags": []
   },
   "outputs": [
    {
     "name": "stdout",
     "output_type": "stream",
     "text": [
      "3.81 µs ± 10.8 ns per loop (mean ± std. dev. of 7 runs, 100,000 loops each)\n"
     ]
    }
   ],
   "source": [
    "%timeit f(a).block_until_ready()"
   ]
  },
  {
   "cell_type": "code",
   "execution_count": 231,
   "id": "946e3aca-1187-438c-abdd-45cb1086d334",
   "metadata": {
    "tags": []
   },
   "outputs": [],
   "source": [
    "from jaxtyping import ArrayLike, PyTree\n",
    "\n",
    "def callable_to_pytree(f) -> PyTree:\n",
    "    \"\"\"Turns the function `f` from a callable that retuns a tree\n",
    "    into a tree of callables.\n",
    "\n",
    "    Example:\n",
    "        ```\n",
    "            def f(t):\n",
    "                return dict(a=t, b=2*t)\n",
    "\n",
    "            f(1.0) # dict(a=1.0, b=2.0)\n",
    "\n",
    "            tree = callable_to_pytree(f)\n",
    "            tree[\"a\"](1.0) # 1.0\n",
    "            tree[\"b\"](1.0) # 2.0\n",
    "        ```\n",
    "    \"\"\"\n",
    "    new_jaxpr = []\n",
    "    closed_jaxpr = jax.make_jaxpr(f)(0.0)\n",
    "    structure = jtu.tree_structure(jax.eval_shape(f, 0.0))\n",
    "    for i in range(len(closed_jaxpr.jaxpr.outvars)):\n",
    "        c_jaxpr = closed_jaxpr.jaxpr.replace(outvars=[closed_jaxpr.jaxpr.outvars[i]])\n",
    "        c_jaxpr = jax.core.ClosedJaxpr(c_jaxpr, closed_jaxpr.consts)\n",
    "        c_fun = jax.core.jaxpr_as_fun(c_jaxpr)\n",
    "        new_jaxpr.append(c_fun)\n",
    "    return jtu.tree_unflatten(structure, new_jaxpr)\n",
    "\n",
    "\n",
    "f2 = callable_to_pytree(f)"
   ]
  },
  {
   "cell_type": "code",
   "execution_count": 232,
   "id": "11ce8e9c-9af9-423e-a266-e18bfad6632b",
   "metadata": {
    "tags": []
   },
   "outputs": [
    {
     "data": {
      "text/plain": [
       "functools.partial(<function jaxpr_as_fun at 0x1073c90d0>, { \u001b[34m\u001b[22m\u001b[1mlambda \u001b[39m\u001b[22m\u001b[22m; a\u001b[35m:f32[]\u001b[39m. \u001b[34m\u001b[22m\u001b[1mlet\n",
       "    \u001b[39m\u001b[22m\u001b[22mb\u001b[35m:f32[1000]\u001b[39m = pjit[\n",
       "      name=f\n",
       "      jaxpr={ \u001b[34m\u001b[22m\u001b[1mlambda \u001b[39m\u001b[22m\u001b[22mc\u001b[35m:f32[1000]\u001b[39m; d\u001b[35m:f32[]\u001b[39m. \u001b[34m\u001b[22m\u001b[1mlet\n",
       "          \u001b[39m\u001b[22m\u001b[22me\u001b[35m:f32[]\u001b[39m = convert_element_type[new_dtype=float32 weak_type=False] d\n",
       "          f\u001b[35m:f32[1000]\u001b[39m = mul c e\n",
       "          g\u001b[35m:f32[1000]\u001b[39m = tanh f\n",
       "          h\u001b[35m:f32[1000]\u001b[39m = exp g\n",
       "        \u001b[34m\u001b[22m\u001b[1min \u001b[39m\u001b[22m\u001b[22m(h,) }\n",
       "    ] a\n",
       "  \u001b[34m\u001b[22m\u001b[1min \u001b[39m\u001b[22m\u001b[22m(b,) })"
      ]
     },
     "execution_count": 232,
     "metadata": {},
     "output_type": "execute_result"
    }
   ],
   "source": [
    "f2"
   ]
  },
  {
   "cell_type": "code",
   "execution_count": null,
   "id": "2f6e625e-18ce-407b-ab7f-925ca60987aa",
   "metadata": {},
   "outputs": [],
   "source": []
  }
 ],
 "metadata": {
  "kernelspec": {
   "display_name": "dynamiqs",
   "language": "python",
   "name": "dynamiqs"
  },
  "language_info": {
   "codemirror_mode": {
    "name": "ipython",
    "version": 3
   },
   "file_extension": ".py",
   "mimetype": "text/x-python",
   "name": "python",
   "nbconvert_exporter": "python",
   "pygments_lexer": "ipython3",
   "version": "3.9.18"
  }
 },
 "nbformat": 4,
 "nbformat_minor": 5
}
